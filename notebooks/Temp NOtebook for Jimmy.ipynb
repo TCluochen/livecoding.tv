{
 "cells": [
  {
   "cell_type": "code",
   "execution_count": 3,
   "metadata": {
    "collapsed": false
   },
   "outputs": [],
   "source": [
    "import pandas as pd, numpy as np, seaborn as sns\n",
    "\n",
    "%matplotlib inline\n",
    "\n",
    "sns.set_style('darkgrid')"
   ]
  },
  {
   "cell_type": "code",
   "execution_count": 5,
   "metadata": {
    "collapsed": false
   },
   "outputs": [],
   "source": [
    "currency_df = pd.read_csv('../data/exchangeGVIForex.csv')"
   ]
  },
  {
   "cell_type": "code",
   "execution_count": 9,
   "metadata": {
    "collapsed": false
   },
   "outputs": [
    {
     "data": {
      "text/html": [
       "<div style=\"max-height:1000px;max-width:1500px;overflow:auto;\">\n",
       "<table border=\"1\" class=\"dataframe\">\n",
       "  <thead>\n",
       "    <tr style=\"text-align: right;\">\n",
       "      <th></th>\n",
       "      <th>count</th>\n",
       "      <th>unique</th>\n",
       "      <th>top</th>\n",
       "      <th>freq</th>\n",
       "    </tr>\n",
       "  </thead>\n",
       "  <tbody>\n",
       "    <tr>\n",
       "      <th>Results</th>\n",
       "      <td> 788</td>\n",
       "      <td> 788</td>\n",
       "      <td> 2013-02-25</td>\n",
       "      <td> 1</td>\n",
       "    </tr>\n",
       "    <tr>\n",
       "      <th>EUR/USD Close</th>\n",
       "      <td> 788</td>\n",
       "      <td> 680</td>\n",
       "      <td>     1.2934</td>\n",
       "      <td> 4</td>\n",
       "    </tr>\n",
       "    <tr>\n",
       "      <th>USD/JPY Close</th>\n",
       "      <td> 788</td>\n",
       "      <td> 748</td>\n",
       "      <td>      87.77</td>\n",
       "      <td> 2</td>\n",
       "    </tr>\n",
       "    <tr>\n",
       "      <th>USD/CHF Close</th>\n",
       "      <td> 788</td>\n",
       "      <td> 600</td>\n",
       "      <td>      0.933</td>\n",
       "      <td> 6</td>\n",
       "    </tr>\n",
       "    <tr>\n",
       "      <th>GBP/USD Close</th>\n",
       "      <td> 788</td>\n",
       "      <td> 680</td>\n",
       "      <td>     1.5493</td>\n",
       "      <td> 4</td>\n",
       "    </tr>\n",
       "    <tr>\n",
       "      <th>USD/CAD Close</th>\n",
       "      <td> 788</td>\n",
       "      <td> 684</td>\n",
       "      <td>     1.0853</td>\n",
       "      <td> 4</td>\n",
       "    </tr>\n",
       "  </tbody>\n",
       "</table>\n",
       "</div>"
      ],
      "text/plain": [
       "              count unique         top freq\n",
       "Results         788    788  2013-02-25    1\n",
       "EUR/USD Close   788    680      1.2934    4\n",
       "USD/JPY Close   788    748       87.77    2\n",
       "USD/CHF Close   788    600       0.933    6\n",
       "GBP/USD Close   788    680      1.5493    4\n",
       "USD/CAD Close   788    684      1.0853    4"
      ]
     },
     "execution_count": 9,
     "metadata": {},
     "output_type": "execute_result"
    }
   ],
   "source": [
    "currency_df.describe().T"
   ]
  },
  {
   "cell_type": "code",
   "execution_count": 14,
   "metadata": {
    "collapsed": false
   },
   "outputs": [],
   "source": [
    "top_currency = currency_df.ix[6:]"
   ]
  },
  {
   "cell_type": "code",
   "execution_count": 19,
   "metadata": {
    "collapsed": false
   },
   "outputs": [],
   "source": [
    "top_currency = top_currency.rename(columns={'Results': 'date'})\n"
   ]
  },
  {
   "cell_type": "code",
   "execution_count": 21,
   "metadata": {
    "collapsed": false
   },
   "outputs": [],
   "source": [
    "top_currency['date'] = pd.to_datetime(top_currency['date'])"
   ]
  },
  {
   "cell_type": "code",
   "execution_count": 27,
   "metadata": {
    "collapsed": false
   },
   "outputs": [
    {
     "data": {
      "text/plain": [
       "Index([u'EUR/USD Close', u'USD/JPY Close', u'USD/CHF Close', u'GBP/USD Close', u'USD/CAD Close'], dtype='object')"
      ]
     },
     "execution_count": 27,
     "metadata": {},
     "output_type": "execute_result"
    }
   ],
   "source": [
    "top_currency.columns[1:]"
   ]
  },
  {
   "cell_type": "code",
   "execution_count": 31,
   "metadata": {
    "collapsed": false
   },
   "outputs": [],
   "source": [
    "for column in top_currency.columns[1:]:\n",
    "    top_currency[column] = top_currency[column].astype(float)"
   ]
  },
  {
   "cell_type": "code",
   "execution_count": 34,
   "metadata": {
    "collapsed": false
   },
   "outputs": [
    {
     "data": {
      "text/plain": [
       "EUR/USD Close      1.272865\n",
       "USD/JPY Close    104.771299\n",
       "USD/CHF Close      0.929827\n",
       "GBP/USD Close      1.587816\n",
       "USD/CAD Close      1.108431\n",
       "dtype: float64"
      ]
     },
     "execution_count": 34,
     "metadata": {},
     "output_type": "execute_result"
    }
   ],
   "source": [
    "top_currency.mean()"
   ]
  },
  {
   "cell_type": "code",
   "execution_count": 35,
   "metadata": {
    "collapsed": false
   },
   "outputs": [
    {
     "data": {
      "text/html": [
       "<div style=\"max-height:1000px;max-width:1500px;overflow:auto;\">\n",
       "<table border=\"1\" class=\"dataframe\">\n",
       "  <thead>\n",
       "    <tr style=\"text-align: right;\">\n",
       "      <th></th>\n",
       "      <th>EUR/USD Close</th>\n",
       "      <th>USD/JPY Close</th>\n",
       "      <th>USD/CHF Close</th>\n",
       "      <th>GBP/USD Close</th>\n",
       "      <th>USD/CAD Close</th>\n",
       "    </tr>\n",
       "  </thead>\n",
       "  <tbody>\n",
       "    <tr>\n",
       "      <th>count</th>\n",
       "      <td> 782.000000</td>\n",
       "      <td> 782.000000</td>\n",
       "      <td> 782.000000</td>\n",
       "      <td> 782.000000</td>\n",
       "      <td> 782.000000</td>\n",
       "    </tr>\n",
       "    <tr>\n",
       "      <th>mean</th>\n",
       "      <td>   1.272865</td>\n",
       "      <td> 104.771299</td>\n",
       "      <td>   0.929827</td>\n",
       "      <td>   1.587816</td>\n",
       "      <td>   1.108431</td>\n",
       "    </tr>\n",
       "    <tr>\n",
       "      <th>std</th>\n",
       "      <td>   0.098510</td>\n",
       "      <td>  12.134418</td>\n",
       "      <td>   0.030354</td>\n",
       "      <td>   0.060298</td>\n",
       "      <td>   0.098132</td>\n",
       "    </tr>\n",
       "    <tr>\n",
       "      <th>min</th>\n",
       "      <td>   1.047630</td>\n",
       "      <td>  78.000000</td>\n",
       "      <td>   0.858500</td>\n",
       "      <td>   1.464220</td>\n",
       "      <td>   0.976600</td>\n",
       "    </tr>\n",
       "    <tr>\n",
       "      <th>25%</th>\n",
       "      <td>   1.215300</td>\n",
       "      <td>  98.200750</td>\n",
       "      <td>   0.906425</td>\n",
       "      <td>   1.538640</td>\n",
       "      <td>   1.030025</td>\n",
       "    </tr>\n",
       "    <tr>\n",
       "      <th>50%</th>\n",
       "      <td>   1.305950</td>\n",
       "      <td> 102.255000</td>\n",
       "      <td>   0.930300</td>\n",
       "      <td>   1.581870</td>\n",
       "      <td>   1.088950</td>\n",
       "    </tr>\n",
       "    <tr>\n",
       "      <th>75%</th>\n",
       "      <td>   1.352375</td>\n",
       "      <td> 118.516000</td>\n",
       "      <td>   0.950225</td>\n",
       "      <td>   1.633775</td>\n",
       "      <td>   1.164025</td>\n",
       "    </tr>\n",
       "    <tr>\n",
       "      <th>max</th>\n",
       "      <td>   1.393400</td>\n",
       "      <td> 125.637000</td>\n",
       "      <td>   1.020100</td>\n",
       "      <td>   1.716500</td>\n",
       "      <td>   1.343120</td>\n",
       "    </tr>\n",
       "  </tbody>\n",
       "</table>\n",
       "</div>"
      ],
      "text/plain": [
       "       EUR/USD Close  USD/JPY Close  USD/CHF Close  GBP/USD Close  \\\n",
       "count     782.000000     782.000000     782.000000     782.000000   \n",
       "mean        1.272865     104.771299       0.929827       1.587816   \n",
       "std         0.098510      12.134418       0.030354       0.060298   \n",
       "min         1.047630      78.000000       0.858500       1.464220   \n",
       "25%         1.215300      98.200750       0.906425       1.538640   \n",
       "50%         1.305950     102.255000       0.930300       1.581870   \n",
       "75%         1.352375     118.516000       0.950225       1.633775   \n",
       "max         1.393400     125.637000       1.020100       1.716500   \n",
       "\n",
       "       USD/CAD Close  \n",
       "count     782.000000  \n",
       "mean        1.108431  \n",
       "std         0.098132  \n",
       "min         0.976600  \n",
       "25%         1.030025  \n",
       "50%         1.088950  \n",
       "75%         1.164025  \n",
       "max         1.343120  "
      ]
     },
     "execution_count": 35,
     "metadata": {},
     "output_type": "execute_result"
    }
   ],
   "source": [
    "top_currency.describe()"
   ]
  },
  {
   "cell_type": "code",
   "execution_count": null,
   "metadata": {
    "collapsed": true
   },
   "outputs": [],
   "source": [
    "# is it ok if I put it in my github?\n",
    "# you will learn.. it's all rep"
   ]
  }
 ],
 "metadata": {
  "kernelspec": {
   "display_name": "Python 2",
   "language": "python",
   "name": "python2"
  },
  "language_info": {
   "codemirror_mode": {
    "name": "ipython",
    "version": 2
   },
   "file_extension": ".py",
   "mimetype": "text/x-python",
   "name": "python",
   "nbconvert_exporter": "python",
   "pygments_lexer": "ipython2",
   "version": "2.7.6"
  }
 },
 "nbformat": 4,
 "nbformat_minor": 0
}
