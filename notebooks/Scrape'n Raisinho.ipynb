{
 "cells": [
  {
   "cell_type": "markdown",
   "metadata": {},
   "source": [
    "# @raizinho's (of livecoding.tv fame), Cool Sraping Example\n",
    "\n",
    "We used the [\"Xpath Helper\"](https://chrome.google.com/webstore/detail/xpath-helper/hgimnogjllphhhkhlmebbmlgjoejdpjl?hl=en\") plugin for chrome to build our XPath expression.\n",
    "\n",
    "The source site is http://www.transfermarkt.com/ligue-1/startseite/wettbewerb/FR1.  The site will not load a valid 200 response unless you send it a user-agent and referer headers.  You can reference these items within chrome network debug (cmd-option-j), and right click on a request and choose \"curl request\" or just copy / paste the headers produced by the browser.\n",
    "\n",
    "[<img src=\"http://snag.gy/BsFhU.jpg\" width=\"800\">](http://snag.gy/BsFhU.jpg)\n",
    "\n",
    "**test\n",
    "\n"
   ]
  },
  {
   "cell_type": "code",
   "execution_count": 1,
   "metadata": {
    "collapsed": true
   },
   "outputs": [],
   "source": [
    "from lxml import html\n",
    "from lxml import etree\n",
    "import requests, pprint, json, re, os, pandas as pd, matplotlib, seaborn as sns\n",
    "\n",
    "%matplotlib inline"
   ]
  },
  {
   "cell_type": "code",
   "execution_count": 2,
   "metadata": {
    "collapsed": true
   },
   "outputs": [],
   "source": [
    "def scrape():\n",
    "\n",
    "    url     =   'http://www.transfermarkt.com/ligue-1/startseite/wettbewerb/FR1'\n",
    "    print \" Getting URL: %s\" % url\n",
    "\n",
    "    headers =   {\n",
    "        'Referer': 'http://www.transfermarkt.com/ligue-1/startseite/wettbewerb/FR1',\n",
    "        'User-Agent' : 'Mozilla/5.0 (Macintosh; Intel Mac OS X 10_10_3) AppleWebKit/537.36 (KHTML, like Gecko) Chrome/44.0.2403.157 Safari/537.36'\n",
    "    }\n",
    "\n",
    "\n",
    "    page    =   requests.get(url, headers=headers)\n",
    "    tree    =   html.fromstring(page.text)  \n",
    "\n",
    "    path    =   \"//table\"\n",
    "    path    =   \"//div[@id='main']/div/div/div/div/div/table/tbody/tr\"\n",
    "    path    =   tree.xpath(path)\n",
    "    # print page.text\n",
    "    # data    =   \",\".join([element for element in path])\n",
    "    return path\n"
   ]
  },
  {
   "cell_type": "code",
   "execution_count": 4,
   "metadata": {
    "collapsed": false
   },
   "outputs": [
    {
     "name": "stdout",
     "output_type": "stream",
     "text": [
      " Getting URL: http://www.transfermarkt.com/ligue-1/startseite/wettbewerb/FR1\n"
     ]
    },
    {
     "data": {
      "text/plain": [
       "array([[<matplotlib.axes._subplots.AxesSubplot object at 0x10bbe8f10>,\n",
       "        <matplotlib.axes._subplots.AxesSubplot object at 0x10bed6310>]], dtype=object)"
      ]
     },
     "execution_count": 4,
     "metadata": {},
     "output_type": "execute_result"
    },
    {
     "data": {
      "image/png": "[encoded data removed]",
      "text/plain": [
       "<matplotlib.figure.Figure at 0x10bbeaf10>"
      ]
     },
     "metadata": {},
     "output_type": "display_data"
    }
   ],
   "source": [
    "elements = scrape()\n",
    "data = []\n",
    "\n",
    "for tr in elements:\n",
    "    \n",
    "    row = []\n",
    "    \n",
    "    for td in tr:\n",
    "        \n",
    "        if len(td.getchildren()) == 1:\n",
    "            row.append(td.getchildren()[0].text)\n",
    "        else:\n",
    "            row.append(td.text)\n",
    "        \n",
    "    data.append(row)\n",
    "\n",
    "raisin = pd.DataFrame(data, columns=['_', 'display', 'name', 'squad', 'val1', 'players', 'total_market', 'market', '_', '_'])\n",
    "raisin['squad']  =  map(int, raisin['squad'])\n",
    "raisin['val1']   =  raisin['val1'].map(lambda val: float(val.replace(',', '.')))\n",
    "\n",
    "test = pd.DataFrame(raisin[['squad', 'val1']])\n",
    "test.index = raisin['name']\n",
    "# test.sort('val1').plot(kind='barh', figsize=(16, 8))\n",
    "test.hist()\n",
    "# raisin.iloc[]\n"
   ]
  },
  {
   "cell_type": "code",
   "execution_count": null,
   "metadata": {
    "collapsed": true
   },
   "outputs": [],
   "source": []
  }
 ],
 "metadata": {
  "kernelspec": {
   "display_name": "Python 2",
   "language": "python",
   "name": "python2"
  },
  "language_info": {
   "codemirror_mode": {
    "name": "ipython",
    "version": 2
   },
   "file_extension": ".py",
   "mimetype": "text/x-python",
   "name": "python",
   "nbconvert_exporter": "python",
   "pygments_lexer": "ipython2",
   "version": "2.7.6"
  }
 },
 "nbformat": 4,
 "nbformat_minor": 0
}
