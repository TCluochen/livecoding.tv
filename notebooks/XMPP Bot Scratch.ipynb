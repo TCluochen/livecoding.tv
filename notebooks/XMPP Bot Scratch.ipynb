{
 "cells": [
  {
   "cell_type": "code",
   "execution_count": 2,
   "metadata": {
    "collapsed": true
   },
   "outputs": [],
   "source": [
    "import sleekxmpp"
   ]
  },
  {
   "cell_type": "code",
   "execution_count": 4,
   "metadata": {
    "collapsed": true
   },
   "outputs": [],
   "source": [
    "import sleekxmpp\n",
    "\n",
    "class SendMsgBot(sleekxmpp.ClientXMPP):\n",
    "\n",
    "    def __init__(self, jid, password, recipient, msg):\n",
    "        super(SendMsgBot, self).__init__(jid, password)\n",
    "\n",
    "        self.recipient = recipient\n",
    "        self.msg = msg\n",
    "\n",
    "        self.add_event_handler('session_start', self.start)\n",
    "\n",
    "    def start(self, event):\n",
    "        self.send_presence()\n",
    "        self.get_roster()\n",
    "\n",
    "        self.send_message(mto=self.recipient, mbody=self.msg)\n",
    "\n",
    "        self.disconnect(wait=True)\n"
   ]
  },
  {
   "cell_type": "code",
   "execution_count": null,
   "metadata": {
    "collapsed": true
   },
   "outputs": [],
   "source": [
    "bot = SendMsgBot()\n"
   ]
  }
 ],
 "metadata": {
  "kernelspec": {
   "display_name": "Python 2",
   "language": "python",
   "name": "python2"
  },
  "language_info": {
   "codemirror_mode": {
    "name": "ipython",
    "version": 2
   },
   "file_extension": ".py",
   "mimetype": "text/x-python",
   "name": "python",
   "nbconvert_exporter": "python",
   "pygments_lexer": "ipython2",
   "version": "2.7.6"
  }
 },
 "nbformat": 4,
 "nbformat_minor": 0
}
