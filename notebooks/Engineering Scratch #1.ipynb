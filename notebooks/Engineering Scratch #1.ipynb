{
 "cells": [
  {
   "cell_type": "code",
   "execution_count": 11,
   "metadata": {
    "collapsed": true
   },
   "outputs": [],
   "source": [
    "# C1-3 : users\n",
    "# P1-3 : events\n",
    "\n",
    "input = \"\"\"1, C1, P1\n",
    "2, C2, P2\n",
    "3, C3, P3\n",
    "4, C2, P1\n",
    "5, C2, P3\n",
    "6, C2, P2\n",
    "7, C1, P3\n",
    "8, C1, P2\n",
    "9, C3, P1\n",
    "10, C2, P1\n",
    "11, C2, P3\n",
    "12, C2, P2\n",
    "13, C1, P1\n",
    "14, C1, P3\n",
    "15, C1, P2\"\"\"\n",
    "\n",
    "\n"
   ]
  },
  {
   "cell_type": "code",
   "execution_count": 56,
   "metadata": {
    "collapsed": false
   },
   "outputs": [
    {
     "data": {
      "text/plain": [
       "defaultdict(<type 'int'>, {'P1P3P2': 4, 'P2P1P3': 3, 'P3P2P1': 2})"
      ]
     },
     "execution_count": 56,
     "metadata": {},
     "output_type": "execute_result"
    }
   ],
   "source": [
    "from collections import defaultdict\n",
    "\n",
    "lines = []\n",
    "\n",
    "for line in input.split(\"\\n\"):\n",
    "    line = line.split(\",\")\n",
    "    for index, item in enumerate(line):\n",
    "        line[index] = item.strip()\n",
    "    lines.append(line)\n",
    "    \n",
    "seqs = defaultdict(list)\n",
    "\n",
    "max_len = len(lines)\n",
    "\n",
    "for index, seq in enumerate(lines):\n",
    "    \n",
    "\n",
    "    \n",
    "    # key = seq[index][2] + seq[index + 1][2] + seq[index + 2][2]\n",
    "    seqs[seq[1]].append(seq[2])\n",
    "\n",
    "events = defaultdict(int)\n",
    "\n",
    "# events['p2pep3'] += 1\n",
    "\n",
    "for user, items in seqs.items():\n",
    "\n",
    "    max_seq = len(items)\n",
    "\n",
    "#     print user, max_seq\n",
    "    if max_seq < 3:\n",
    "#         print \"skipping \", user\n",
    "        continue\n",
    "    \n",
    "    for index, seq in enumerate(items):\n",
    "\n",
    "#         print index, seq\n",
    "        \n",
    "        if (index == max_seq - 2):\n",
    "#             print \"skipping \", user\n",
    "            break\n",
    "            \n",
    "        key = items[index] + items[index + 1] + items[index + 2]\n",
    "#         print key\n",
    "        events[key] += 1\n",
    "        \n",
    "events        \n",
    "#     print user, items\n",
    "\n",
    "# seqs = [{'P1P2P3': 3}, {['p2p3p1': 123}]\n",
    "\n",
    "# zip(line[0], line[1], line[3])\n",
    "# map(lambda val: .strip(), lines)"
   ]
  },
  {
   "cell_type": "code",
   "execution_count": 63,
   "metadata": {
    "collapsed": false
   },
   "outputs": [
    {
     "data": {
      "text/plain": [
       "[]"
      ]
     },
     "execution_count": 63,
     "metadata": {},
     "output_type": "execute_result"
    }
   ],
   "source": [
    "input = \"this is strong\"\n",
    "# result: strong is this\n",
    "\n",
    "range(0, -2)"
   ]
  },
  {
   "cell_type": "code",
   "execution_count": null,
   "metadata": {
    "collapsed": true
   },
   "outputs": [],
   "source": []
  }
 ],
 "metadata": {
  "kernelspec": {
   "display_name": "Python 2",
   "language": "python",
   "name": "python2"
  },
  "language_info": {
   "codemirror_mode": {
    "name": "ipython",
    "version": 2
   },
   "file_extension": ".py",
   "mimetype": "text/x-python",
   "name": "python",
   "nbconvert_exporter": "python",
   "pygments_lexer": "ipython2",
   "version": "2.7.6"
  }
 },
 "nbformat": 4,
 "nbformat_minor": 0
}
