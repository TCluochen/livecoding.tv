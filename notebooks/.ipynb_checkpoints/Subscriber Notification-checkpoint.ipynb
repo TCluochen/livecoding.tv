{
 "cells": [
  {
   "cell_type": "code",
   "execution_count": 149,
   "metadata": {
    "collapsed": true
   },
   "outputs": [],
   "source": [
    "import feedparser # pip install feedparser\n",
    "import pandas as pd, logging, os, subprocess, gntp.notifier, time\n",
    "\n",
    "logging.basicConfig(level=logging.INFO)"
   ]
  },
  {
   "cell_type": "markdown",
   "metadata": {},
   "source": [
    "## Get Livecoding.tv Channel Data\n",
    "We use this to compare later."
   ]
  },
  {
   "cell_type": "code",
   "execution_count": 150,
   "metadata": {
    "collapsed": false
   },
   "outputs": [],
   "source": [
    "rss_feed = \"https://www.livecoding.tv/rss/dyerrington/followers/?key=MYYtpMLahGj3lCyq\"\n",
    "feed = feedparser.parse(rss_feed)\n",
    "\n",
    "users = []\n",
    "\n",
    "if feed.entries:\n",
    "    for item in feed.entries:\n",
    "        users.append({ \n",
    "            'username':  item.title, \n",
    "            'url':       item.links[0]['href']\n",
    "        })\n",
    "\n",
    "# users.append({'username': 'Cheeho', 'url': 'test!'})\n",
    "        \n",
    "feed_df = pd.DataFrame(users)\n"
   ]
  },
  {
   "cell_type": "markdown",
   "metadata": {},
   "source": [
    "## Save Initial State\n",
    "We need to use this initial state to use as a comparison when we do our check periodically."
   ]
  },
  {
   "cell_type": "code",
   "execution_count": 143,
   "metadata": {
    "collapsed": false
   },
   "outputs": [],
   "source": [
    "serialized_file = './livecoding_followers.pkl'\n",
    "\n",
    "# Read initial state\n",
    "try:\n",
    "    users_df = pd.read_pickle(serialized_file)\n",
    "\n",
    "except: # additionally can catch IOError but lets catch everything\n",
    "# Save initial state if none exists\n",
    "\n",
    "    users_df = pd.DataFrame(users)\n",
    "    users_df.to_pickle(serialized_file)\n",
    "\n",
    "# for row in users_df.to_dict('records'):\n",
    "#     print row"
   ]
  },
  {
   "cell_type": "markdown",
   "metadata": {},
   "source": [
    "## Conditional Display of Notification\n",
    "\n",
    "We just check if there are new users, and if there is, we will call the notification then update the serialized file so it only runs once."
   ]
  },
  {
   "cell_type": "code",
   "execution_count": 155,
   "metadata": {
    "collapsed": false,
    "scrolled": false
   },
   "outputs": [
    {
     "name": "stdout",
     "output_type": "stream",
     "text": [
      "pickling new feed data..\n"
     ]
    }
   ],
   "source": [
    "test_new = pd.DataFrame([{'username': 'Alex Chao', 'url': 'Hh0h0h0h0'}, {'username': 'Ass Bandit', 'url': 'assbandit'}])\n",
    "feed_df = feed_df.append(test_new)\n",
    "\n",
    "new_users = (set(feed_df['username'].values) - set(users_df['username'].values))\n",
    "\n",
    "for username in new_users:\n",
    "    \n",
    "    growl.notify(\n",
    "        noteType = \"New Messages\",\n",
    "        title = \"%s\" % username,\n",
    "        description = \"Thanks for subscribing!\",\n",
    "        icon = \"http://icons.iconarchive.com/icons/dryicons/valentine/128/heart-icon.png\",\n",
    "        sticky = True,\n",
    "        priority = 1,\n",
    "    )\n",
    "    subprocess.call(['/Users/davidyerrington/play_random.sh'])\n",
    "    time.sleep(10)\n",
    "\n",
    "# serialize new feed data if we've already displayed it\n",
    "if len(new_users) > 0:\n",
    "    print 'pickling new feed data..'\n",
    "    #feed_df.to_pickle(serialized_file)\n",
    "\n",
    "#len(feed.entries) > users_df['username'].count()\n",
    "    \n",
    "\n",
    "\n",
    "\n",
    "# subprocess.call(['/Users/davidyerrington/play_random.sh'])"
   ]
  },
  {
   "cell_type": "raw",
   "metadata": {},
   "source": []
  },
  {
   "cell_type": "code",
   "execution_count": null,
   "metadata": {
    "collapsed": true
   },
   "outputs": [],
   "source": []
  },
  {
   "cell_type": "code",
   "execution_count": null,
   "metadata": {
    "collapsed": true
   },
   "outputs": [],
   "source": []
  },
  {
   "cell_type": "code",
   "execution_count": null,
   "metadata": {
    "collapsed": true
   },
   "outputs": [],
   "source": []
  },
  {
   "cell_type": "code",
   "execution_count": null,
   "metadata": {
    "collapsed": true
   },
   "outputs": [],
   "source": []
  },
  {
   "cell_type": "code",
   "execution_count": null,
   "metadata": {
    "collapsed": true
   },
   "outputs": [],
   "source": []
  },
  {
   "cell_type": "code",
   "execution_count": null,
   "metadata": {
    "collapsed": true
   },
   "outputs": [],
   "source": []
  },
  {
   "cell_type": "code",
   "execution_count": null,
   "metadata": {
    "collapsed": false
   },
   "outputs": [],
   "source": []
  },
  {
   "cell_type": "markdown",
   "metadata": {},
   "source": [
    "## Applescript Integration Example\n",
    "Initially I got this applescript example work but quickly abandoned it once I found a python library to integrate with Growl."
   ]
  },
  {
   "cell_type": "code",
   "execution_count": 44,
   "metadata": {
    "collapsed": false
   },
   "outputs": [
    {
     "name": "stdout",
     "output_type": "stream",
     "text": [
      "(1, '', '1188:1189: syntax error: Expected end of line, etc. but found \\xe2\\x80\\x9c\"\\xe2\\x80\\x9d. (-2741)\\n')\n"
     ]
    }
   ],
   "source": [
    "scpt = '''\n",
    "tell application \"System Events\"\n",
    "\tset isRunning to (count of (every process whose bundle identifier is \"com.Growl.GrowlHelperApp\")) > 0\n",
    "end tell\n",
    "\n",
    "if isRunning then\n",
    "\t\n",
    "\t\n",
    "\ttell application id \"com.Growl.GrowlHelperApp\"\n",
    "\t\t-- Make a list of all the notification types \n",
    "\t\t-- that this script will ever send:\n",
    "\t\tset the allNotificationsList to ¬\n",
    "\t\t\t{\"Test Notification\", \"Another Test Notification\"}\n",
    "\t\t\n",
    "\t\t-- Make a list of the notifications \n",
    "\t\t-- that will be enabled by default.      \n",
    "\t\t-- Those not enabled by default can be enabled later \n",
    "\t\t-- in the 'Applications' tab of the Growl preferences.\n",
    "\t\tset the enabledNotificationsList to ¬\n",
    "\t\t\t{\"Test Notification\"}\n",
    "\t\t\n",
    "\t\t-- Register our script with growl.\n",
    "\t\t-- You can optionally (as here) set a default icon \n",
    "\t\t-- for this script's notifications.\n",
    "\t\tregister as application ¬\n",
    "\t\t\t\"Growl AppleScript Sample\" all notifications allNotificationsList ¬\n",
    "\t\t\tdefault notifications enabledNotificationsList ¬\n",
    "\t\t\ticon of application \"Script Editor\"\n",
    "\t\t\n",
    "\t\tset emotions to {\"Happy\", \"Sad\", \"Angry\", \"Funny\", \"Confused\", \"Shocked\"}\n",
    "\t\tset randomEmotion to some item of emotions\n",
    "\t\t\n",
    "\t\t--       Send a Notification...\n",
    "\t\tnotify with name ¬\n",
    "\t\t\t\"Test Notification\" title ¬\n",
    "\t\t\t\"New Subscriber \" & randomEmotion description ¬\n",
    "\t\t\t\"Thanks for subscribing!\" application name \"Growl AppleScript Sample\"\n",
    "\t\t    image from location ¬\n",
    "            \"file:///Users/davidyerrington/Pictures/data-visualization-icon.png\"\n",
    "            \n",
    "\t\tnotify with name ¬\n",
    "\t\t\t\"Another Test Notification\" title ¬\n",
    "\t\t\t\"Another Test Notification \" description ¬\n",
    "\t\t\t\"Alas — you won't see me until you enable me...\" application name \"Growl AppleScript Sample\"\n",
    "            \n",
    "\t\t\n",
    "\t\tdo shell script \"~/play_random.sh\"\n",
    "\t\t\n",
    "\t\t\n",
    "\t\t\n",
    "\t\t\n",
    "\tend tell\n",
    "end if\n",
    "'''\n",
    "args = ['2', '2']\n",
    "\n",
    "p = Popen(['osascript', '-'] + args, stdin=PIPE, stdout=PIPE, stderr=PIPE)\n",
    "stdout, stderr = p.communicate(scpt)\n",
    "print (p.returncode, stdout, stderr)"
   ]
  }
 ],
 "metadata": {
  "kernelspec": {
   "display_name": "Python 2",
   "language": "python",
   "name": "python2"
  },
  "language_info": {
   "codemirror_mode": {
    "name": "ipython",
    "version": 2
   },
   "file_extension": ".py",
   "mimetype": "text/x-python",
   "name": "python",
   "nbconvert_exporter": "python",
   "pygments_lexer": "ipython2",
   "version": "2.7.6"
  }
 },
 "nbformat": 4,
 "nbformat_minor": 0
}
